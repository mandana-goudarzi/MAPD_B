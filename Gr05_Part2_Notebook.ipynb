{
 "cells": [
  {
   "cell_type": "markdown",
   "id": "0221e933-ac53-4274-baef-0600c23f09e9",
   "metadata": {},
   "source": [
    "## Embedding and Cosine Similarity\n",
    "\n",
    "In this section we are collecting the sequences to embed them using a Pretrained model from Rostlab's [ProtTrans](https://github.com/agemagician/ProtTrans). After this embedding the cosine similarity is calculated for each pair of embedded protein sequence and showed as a heatmap plot."
   ]
  },
  {
   "cell_type": "code",
   "execution_count": 1,
   "id": "00b87ec7-2990-4bb8-a637-1c5c6f7e3a06",
   "metadata": {},
   "outputs": [],
   "source": [
    "# BioPython library for collecting the sequences from cif files\n",
    "from Bio.PDB import PDBList\n",
    "from Bio.PDB.MMCIFParser import MMCIFParser"
   ]
  },
  {
   "cell_type": "code",
   "execution_count": 2,
   "id": "69cf507f-7791-4b9b-899b-0433a31fa609",
   "metadata": {},
   "outputs": [],
   "source": [
    "# Data manipulation libraries\n",
    "import os\n",
    "import io\n",
    "from collections import Counter\n",
    "import pandas as pd\n",
    "import numpy as np\n",
    "import seaborn as sns\n",
    "\n",
    "# Pyspark libraries\n",
    "from pyspark.sql import SparkSession\n",
    "from pyspark.sql import functions as F\n",
    "from pyspark.sql import Row\n",
    "from pyspark.sql.types import ArrayType, DoubleType\n",
    "from pyspark.ml.linalg import DenseVector, VectorUDT\n",
    "from pyspark.ml.functions import vector_to_array"
   ]
  },
  {
   "cell_type": "code",
   "execution_count": 3,
   "id": "700fe0d1-c9ef-41b3-b363-961b9fe463b4",
   "metadata": {},
   "outputs": [
    {
     "name": "stderr",
     "output_type": "stream",
     "text": [
      "Setting default log level to \"WARN\".\n",
      "To adjust logging level use sc.setLogLevel(newLevel). For SparkR, use setLogLevel(newLevel).\n",
      "25/02/08 13:50:38 WARN NativeCodeLoader: Unable to load native-hadoop library for your platform... using builtin-java classes where applicable\n"
     ]
    }
   ],
   "source": [
    "# Creating the spark session\n",
    "spark = SparkSession.builder \\\n",
    "    .master(\"spark://master:7077\")\\\n",
    "    .appName(\"Proteindata spark application\")\\\n",
    "    .config(\"spark.dynamicAllocation.enabled\", \"false\")\\\n",
    "    .config(\"spark.driver.host\", \"10.67.22.219\") \\\n",
    "    .config(\"spark.driver.port\",\"6066\")\\\n",
    "    .config(\"spark.executor.memory\", \"4g\")\\\n",
    "    .config(\"spark.executor.cores\",\"4\")\\\n",
    "    .config(\"spark.sql.optimizer.enableRangeJoin\", \"true\")\\\n",
    "    .getOrCreate()"
   ]
  },
  {
   "cell_type": "code",
   "execution_count": null,
   "id": "a4ca5aad-3e7d-4e5d-9fb4-85aaa3745e03",
   "metadata": {},
   "outputs": [],
   "source": [
    "#.config(\"spark.memoryOverheadFactor\", \"0.05\")\\"
   ]
  },
  {
   "cell_type": "code",
   "execution_count": 4,
   "id": "1c1c570a-199d-4c57-b6d7-2173f3c763aa",
   "metadata": {},
   "outputs": [],
   "source": [
    "# Creating the spark context\n",
    "sc = spark.sparkContext"
   ]
  },
  {
   "cell_type": "markdown",
   "id": "0654db69-75b0-466d-b46b-a9cdfb0fa4ae",
   "metadata": {},
   "source": [
    "### Getting the file paths"
   ]
  },
  {
   "cell_type": "code",
   "execution_count": 5,
   "id": "66a6ea2c-43a1-4fcd-be8c-5cc26a6df9c7",
   "metadata": {},
   "outputs": [],
   "source": [
    "# Getting the file paths\n",
    "base_path = '/data_files/pdb_files'\n",
    "base_path_edit = '/data_files/pdb_files/{}'\n",
    "file_names = os.listdir(base_path)\n",
    "# The size of our original folder is about 2GB consisting of 1712 cif files\n",
    "# we needed to reduce the data size in order to be able to compute without crashing\n",
    "# we will examine the reasons of the crashing in the benchmarking\n",
    "file_list = [base_path_edit.format(i) for i in file_names][:600]\n",
    "files_rdd = sc.parallelize(file_list)#numSlices=12"
   ]
  },
  {
   "cell_type": "code",
   "execution_count": 6,
   "id": "8c16b181-ef99-4972-8f03-188894c60d34",
   "metadata": {
    "scrolled": true
   },
   "outputs": [
    {
     "name": "stderr",
     "output_type": "stream",
     "text": [
      "                                                                                \r"
     ]
    },
    {
     "data": {
      "text/plain": [
       "600"
      ]
     },
     "execution_count": 6,
     "metadata": {},
     "output_type": "execute_result"
    }
   ],
   "source": [
    "# Counting all of the paths to see if there are any errors\n",
    "files_rdd.count()"
   ]
  },
  {
   "cell_type": "code",
   "execution_count": 7,
   "id": "40ea865f-353a-4265-86ec-233b9c6c2aaa",
   "metadata": {},
   "outputs": [
    {
     "data": {
      "text/plain": [
       "12"
      ]
     },
     "execution_count": 7,
     "metadata": {},
     "output_type": "execute_result"
    }
   ],
   "source": [
    "#files_rdd.coalesce(12)\n",
    "files_rdd.getNumPartitions()"
   ]
  },
  {
   "cell_type": "markdown",
   "id": "b7cafcc4-1a5b-49ec-8425-b2524ebfe077",
   "metadata": {},
   "source": [
    "### Parsing the file\n",
    "\n",
    "Parsing the files using the Biopython library to get the sequence. The output of this function is the id of the protein, sequence and the length. "
   ]
  },
  {
   "cell_type": "code",
   "execution_count": 8,
   "id": "de1a7fe6-05a7-487c-a79c-0892a18fd302",
   "metadata": {},
   "outputs": [],
   "source": [
    "def parse_file(file):\n",
    "\n",
    "    cif_parser = MMCIFParser(QUIET=True) # CIF file parser\n",
    "    length = 0 # Setting the length initially to 0 for error correction\n",
    "    name = file.split('/')[3].split('.')[0] # Getting the id of the protein\n",
    "    structure = cif_parser.get_structure(\"protein\", file) # getting structure ? try \"protein\"\n",
    "\n",
    "    # Dictionary for residue names\n",
    "    d3to1 = {'CYS': 'C', 'ASP': 'D', 'SER': 'S', 'GLN': 'Q', 'LYS': 'K',\n",
    "    'ILE': 'I', 'PRO': 'P', 'THR': 'T', 'PHE': 'F', 'ASN': 'N',\n",
    "    'GLY': 'G', 'HIS': 'H', 'LEU': 'L', 'ARG': 'R', 'TRP': 'W',\n",
    "    'ALA': 'A', 'VAL':'V', 'GLU': 'E', 'TYR': 'Y', 'MET': 'M'}\n",
    "\n",
    "    # Creating the sequence   \n",
    "    for model in structure:\n",
    "        for chain in model:\n",
    "            sequence = [d3to1.get(residue.get_resname(), 'X') for residue in chain.get_residues()]\n",
    "            length = len(sequence)\n",
    "    \n",
    "    return name,sequence,length"
   ]
  },
  {
   "cell_type": "markdown",
   "id": "6121fa2a-1c87-4f9c-9ef6-8658be829e52",
   "metadata": {},
   "source": [
    "### Creating a dataframe \n",
    "A dataframe containing the id, length and the token of the each sequence"
   ]
  },
  {
   "cell_type": "code",
   "execution_count": 9,
   "id": "1d984795-af10-4d5e-ba73-a4859a88a078",
   "metadata": {},
   "outputs": [
    {
     "name": "stderr",
     "output_type": "stream",
     "text": [
      "                                                                                \r"
     ]
    }
   ],
   "source": [
    "# Creating an RDD for the tokens\n",
    "def tokens_df_creator(file_path):\n",
    "\n",
    "    data = []\n",
    "    name, sequence, length = parse_file(file_path)\n",
    "    row_value = {\n",
    "        'id':name,\n",
    "        'length':length,\n",
    "        'tokens':sequence, # sequence is tokenized like [\"A\",\"B\",\"K\",...] (each residue is a token)\n",
    "    }\n",
    "    data.append(Row(**row_value)) # Creating rows containing id, length and the sequence of each file in the folder\n",
    "    \n",
    "    return data\n",
    "\n",
    "# Turning the RDD into a DF for easier usage\n",
    "tokens_rdd = files_rdd.flatMap(tokens_df_creator) # FlatMap applied to the RDD\n",
    "tokens_df = tokens_rdd.toDF()"
   ]
  },
  {
   "cell_type": "markdown",
   "id": "85b78c37-1fc4-49ea-88bd-7115c12075c4",
   "metadata": {},
   "source": [
    "### Creating the .vec file using ProtBert\n",
    "\n",
    "Here I shortly showed what I did in order to achieve the .vec file. Since the ProtBert model didn't have such file I looped through the residues and created the vocabulary. \n",
    "\n",
    "```python\n",
    "import numpy as np\n",
    "#transformer model for embedding space creation\n",
    "from transformers import BertModel, BertTokenizer\n",
    "import torch\n",
    "\n",
    "tokenizer = BertTokenizer.from_pretrained(\"Rostlab/prot_bert\", do_lower_case=False ) # change model and tokenizer to t5\n",
    "model_embedd = BertModel.from_pretrained(\"Rostlab/prot_bert\")\n",
    "\n",
    "vocab = ['L','A','G','V','E','S','I','K','R','D','T','P','N','Q','F','Y','M','H','C','W','X','U','B','Z','O']\n",
    "# Path to save the .vec file\n",
    "vec_file_path = 'prot_bert.vec'\n",
    "\n",
    "# Open the file in write mode\n",
    "with open(vec_file_path, 'w') as f:\n",
    "    # Write the header (vocab size and vector dimension)\n",
    "    f.write(f\"{len(vocab)} {outputs.last_hidden_state.size()[2]}\\n\")\n",
    "    \n",
    "    # Write each word and its corresponding vector\n",
    "    for letter in vocab:\n",
    "        encoded_input = tokenizer.encode(letter,return_tensors='pt').to(device)\n",
    "        outputs = model_embedd(input_ids=encoded_input)\n",
    "        vector = outputs.last_hidden_state[0,0].detach().numpy()\n",
    "        vector_str = ' '.join(map(str, vector))  # Convert the vector to a string\n",
    "        f.write(f\"{letter} {vector_str}\\n\")\n",
    "```\n",
    "\n",
    "The problem with this implementation is that all the semantic information between the residues in a sequence is lost since the .vec file is created for each residue. This is highly affecting our output since this semantic knowledge contain ancestoral, functional, structural information"
   ]
  },
  {
   "cell_type": "markdown",
   "id": "e47d80f9-3b93-40c2-a025-7dc434951990",
   "metadata": {},
   "source": [
    "### Loading the dictionary for embedding\n",
    "\n",
    "We loaded the .vec file as a standard python dictionary which is at first only available in the driver node. But using the Pyspark's broadcast function this dictionary can be broadcasted to all of the nodes which enables the executors to have the dictionaries in their local environment."
   ]
  },
  {
   "cell_type": "code",
   "execution_count": 10,
   "id": "d8911f26-292c-401d-bfdf-b24db40f27bb",
   "metadata": {},
   "outputs": [],
   "source": [
    "# Creating the dictionary from the .vec file\n",
    "# .vec file contains the keys (residues) and their corresponding embedding with size 1024\n",
    "def load_vectors(fname):\n",
    "    fin = io.open(fname, 'r', encoding='utf-8', newline='\\n', errors='ignore')\n",
    "    data = {}\n",
    "    for line in fin:\n",
    "        letter_token = line.rstrip().split()\n",
    "        # For each residue creating a DenseVector containing the embedding obtained from the .vec file\n",
    "        data[letter_token[0]] = DenseVector([float(letter) for letter in letter_token[1:]]) \n",
    "    return data\n",
    "\n",
    "vec_dict = load_vectors('/data_files/prot_bert.vec')"
   ]
  },
  {
   "cell_type": "markdown",
   "id": "8fcb9600-24d3-4368-b404-06691ad1354d",
   "metadata": {},
   "source": [
    "### Broadcasting\n",
    "Using the broadcast from the SparkContext created dictionary (containing the information coming from the .vec file) is broadcasted through the cluster. With this broadcasting during the action where the transformation to create the embedding occurs, each executor can use their local dictionary to create the embeddings. "
   ]
  },
  {
   "cell_type": "code",
   "execution_count": 11,
   "id": "0f4f32d9",
   "metadata": {},
   "outputs": [],
   "source": [
    "# Broadcasting the dictionary\n",
    "vec_broadcast = sc.broadcast(vec_dict)"
   ]
  },
  {
   "cell_type": "markdown",
   "id": "4cf9d5d4-4004-4ee6-b0b9-e75bc7731e30",
   "metadata": {},
   "source": [
    "### Creating list of vectors"
   ]
  },
  {
   "cell_type": "code",
   "execution_count": 12,
   "id": "2a58f139-a70e-4f4a-980c-45f8ed2da280",
   "metadata": {},
   "outputs": [],
   "source": [
    "# Embedding the sequence\n",
    "# The embedding is done using a UDF\n",
    "@F.udf(ArrayType(VectorUDT()))\n",
    "def embed_sequence(tokens_list):\n",
    "    return [vec_broadcast.value[token] for token in tokens_list if token in vec_dict]\n"
   ]
  },
  {
   "cell_type": "code",
   "execution_count": 13,
   "id": "49fa4d1e-bcec-4fbd-b7b4-f1b1869f8411",
   "metadata": {},
   "outputs": [],
   "source": [
    "# The embeddings are added as a new column (UDF applied to the DataFrame)\n",
    "tokens_df = tokens_df.withColumn(\"embeddings\",embed_sequence(tokens_df.tokens))"
   ]
  },
  {
   "cell_type": "markdown",
   "id": "136782b4-e261-4f6e-840a-bb45bba11f41",
   "metadata": {},
   "source": [
    "##### The size of the embeddings are 1024 x len(seq)"
   ]
  },
  {
   "cell_type": "markdown",
   "id": "b6a1109f-c220-41e9-80be-318759647139",
   "metadata": {},
   "source": [
    "### Taking the mean of the list of the vectors (len(sequence) x 1024) to achieve a vector with length 1024\n",
    "\n",
    "To reduce the dimensions of the embeddings we used the same aproach as Rostlab did, in order to achieve an embedding for the protein sequence.\n"
   ]
  },
  {
   "cell_type": "code",
   "execution_count": 14,
   "id": "b8a6634a-e0de-4cb2-9963-4499b602d05d",
   "metadata": {
    "scrolled": true
   },
   "outputs": [],
   "source": [
    "# Creating another udf to get the mean of each embedding row\n",
    "@F.udf(VectorUDT())\n",
    "def mean_calculator(embedding,length):\n",
    "    mean_embedding = sum(embedding)/length # getting the mean of the embeddings in axis=0\n",
    "    return mean_embedding   \n",
    "\n",
    "# Created mean embedding is added as a new column\n",
    "tokens_df = tokens_df.withColumn(\"mean_embed\",mean_calculator(tokens_df.embeddings,tokens_df.length))"
   ]
  },
  {
   "cell_type": "code",
   "execution_count": 15,
   "id": "c1c9cc88-3b24-4e26-9c56-ca0f8077bff2",
   "metadata": {
    "scrolled": true
   },
   "outputs": [],
   "source": [
    "# Selecting a subset of the tokens_df\n",
    "mean_embed_df = tokens_df.select(\"id\",\"mean_embed\")"
   ]
  },
  {
   "cell_type": "markdown",
   "id": "fde1ceab-e196-4688-ad1d-af989e22c95d",
   "metadata": {},
   "source": [
    "### Cosine similarity\n",
    "\n",
    "Here we created another udf for the calculation of the cosine similarity for each protein sequence. With this we can see if there are any similarities between protein sequences."
   ]
  },
  {
   "cell_type": "code",
   "execution_count": 16,
   "id": "b92f7e3d-b478-4921-9b08-c5343107f216",
   "metadata": {},
   "outputs": [],
   "source": [
    "# Creating 2 views from the same mean_embed_df\n",
    "mean_embed_df.withColumnRenamed('id', 'id1').withColumnRenamed('mean_embed', 'embed_1').createOrReplaceTempView(\"df1\")\n",
    "\n",
    "mean_embed_df.withColumnRenamed('id', 'id2').withColumnRenamed('mean_embed', 'embed_2').createOrReplaceTempView(\"df2\")\n",
    "\n",
    "# Using sql to join the dfs using a condition which reduces the number of unnecessary calculation\n",
    "# caused by the joining 2 dfs to create all the possible pairs\n",
    "joined_df = spark.sql(\n",
    "\"\"\"SELECT *\n",
    "FROM df1, df2\n",
    "WHERE df1.id1 < df2.id2\"\"\") # using this condition we are creating only the upper triangle of the expected cross joined \"matrix\""
   ]
  },
  {
   "cell_type": "code",
   "execution_count": 17,
   "id": "20cd727d-ad48-4c0b-bc40-1d6d0d6d7d31",
   "metadata": {},
   "outputs": [],
   "source": [
    "# Convert DenseVector to an array\n",
    "joined_df = joined_df.withColumn(\"embed_1\", vector_to_array(F.col(\"embed_1\")))\n",
    "joined_df = joined_df.withColumn(\"embed_2\", vector_to_array(F.col(\"embed_2\")))"
   ]
  },
  {
   "cell_type": "code",
   "execution_count": 18,
   "id": "f2dc0ab3-7ce9-4020-8a72-70ce9f5f6833",
   "metadata": {},
   "outputs": [],
   "source": [
    "# Compute dot product, norms, and cosine similarity directly\n",
    "df_cos_sim = (\n",
    "    joined_df.withColumn(\"dot_prod\", F.expr(\"aggregate(zip_with(embed_1, embed_2, (x, y) -> x * y), 0D, (acc, v) -> acc + v)\"))\n",
    "      .withColumn(\"norm_1\", F.expr(\"sqrt(aggregate(embed_1, 0D, (acc, v) -> acc + v * v))\"))\n",
    "      .withColumn(\"norm_2\", F.expr(\"sqrt(aggregate(embed_2, 0D, (acc, v) -> acc + v * v))\"))\n",
    "      .withColumn(\"cosine_similarity\", F.col(\"dot_prod\") / (F.col(\"norm_1\") * F.col(\"norm_2\")))\n",
    "      .drop(\"dot_prod\", \"norm_1\", \"norm_2\",\"embed_1\",\"embed_2\")\n",
    ")"
   ]
  },
  {
   "cell_type": "code",
   "execution_count": 19,
   "id": "46be2cc8-546e-409e-9f9e-2d7513256b25",
   "metadata": {},
   "outputs": [
    {
     "name": "stderr",
     "output_type": "stream",
     "text": [
      "                                                                                \r"
     ]
    },
    {
     "data": {
      "text/plain": [
       "[Row(id1='2kgj', id2='7csq', cosine_similarity=0.9953106710572059),\n",
       " Row(id1='2kgj', id2='2msx', cosine_similarity=0.9981249358863621)]"
      ]
     },
     "execution_count": 19,
     "metadata": {},
     "output_type": "execute_result"
    }
   ],
   "source": [
    "# Persisting data for faster calculation in the future\n",
    "df_cos_sim.persist()\n",
    "df_cos_sim.take(2)"
   ]
  },
  {
   "cell_type": "code",
   "execution_count": 21,
   "id": "2875727e-da0f-44de-b1ba-a45f89e085f5",
   "metadata": {},
   "outputs": [
    {
     "data": {
      "text/plain": [
       "16"
      ]
     },
     "execution_count": 21,
     "metadata": {},
     "output_type": "execute_result"
    }
   ],
   "source": [
    "# Filtering the data since being really close to 1 is not surprising\n",
    "filtered_df = df_cos_sim.filter(\"cosine_similarity < 0.955\")\n",
    "filtered_df.count() # We are expecting a small amount"
   ]
  },
  {
   "cell_type": "markdown",
   "id": "62eb403b-ce62-4fbf-b1a9-3f52d908c8da",
   "metadata": {},
   "source": [
    "#### Creating the matrix for creating the heatmap easily with filtered data\n",
    "Here by only using the filtered data, which includes the sequences that are the most different from each other, we are creating a heatmap."
   ]
  },
  {
   "cell_type": "code",
   "execution_count": 22,
   "id": "65646eaa-be76-439f-884a-6f3fbd1cd0ca",
   "metadata": {},
   "outputs": [
    {
     "name": "stderr",
     "output_type": "stream",
     "text": [
      "                                                                                \r"
     ]
    }
   ],
   "source": [
    "# Using Spark DataFrame operations for efficiency\n",
    "idx_df = filtered_df.select('id1').union(filtered_df.select('id2')).distinct()\n",
    "\n",
    "# Collecting the unique IDs\n",
    "idx = [row['id1'] for row in idx_df.collect()]"
   ]
  },
  {
   "cell_type": "code",
   "execution_count": 24,
   "id": "896cb189-0e05-4ccc-9e50-9f84c5562105",
   "metadata": {},
   "outputs": [],
   "source": [
    "# Collecting the embeddings of the unique id's and creating a new dataframe containing only these id's\n",
    "filtered_mean_embed_df = mean_embed_df.filter(mean_embed_df[\"id\"].isin(idx) == True)"
   ]
  },
  {
   "cell_type": "code",
   "execution_count": 25,
   "id": "4aeba417-f61a-4c60-acf9-203e54eb5487",
   "metadata": {},
   "outputs": [
    {
     "name": "stderr",
     "output_type": "stream",
     "text": [
      "                                                                                \r"
     ]
    }
   ],
   "source": [
    "# Redoing the cosine similarity calculation to create a symmetric matrix\n",
    "@F.udf(DoubleType())\n",
    "def cos_sim(a, b):\n",
    "    return float(np.dot(a, b) / (np.linalg.norm(a) * np.linalg.norm(b)))\n",
    "\n",
    "df2 = (\n",
    "    filtered_mean_embed_df.alias('a')\n",
    "    .crossJoin(filtered_mean_embed_df.alias('b'))\n",
    "    .withColumn(\n",
    "        'cs',\n",
    "        cos_sim(\n",
    "            'a.mean_embed',\n",
    "            'b.mean_embed')\n",
    "    )\n",
    "    .groupby('a.id') # Grouping by the id's\n",
    "    .pivot('b.id') # Pivoting on the same id's\n",
    "    .sum('cs') # Collecting the cosine similarities\n",
    ")"
   ]
  },
  {
   "cell_type": "code",
   "execution_count": 27,
   "id": "24dd27d2-38d6-4f32-bf72-c4d5136674bf",
   "metadata": {
    "scrolled": true
   },
   "outputs": [
    {
     "name": "stderr",
     "output_type": "stream",
     "text": [
      "                                                                                \r"
     ]
    }
   ],
   "source": [
    "# Getting the created dataframe to the driver memory for using Pandas\n",
    "cos_df = df2.toPandas()\n",
    "cos_df = cos_df.sort_values('id')\n",
    "cod_df = cos_df.set_index('id')"
   ]
  },
  {
   "cell_type": "code",
   "execution_count": 28,
   "id": "e3d243e2-2df9-4ba1-87c4-ba5a1334e02e",
   "metadata": {},
   "outputs": [
    {
     "data": {
      "text/plain": [
       "<Axes: >"
      ]
     },
     "execution_count": 28,
     "metadata": {},
     "output_type": "execute_result"
    },
    {
     "data": {
      "image/png": "[encoded data removed]",
      "text/plain": [
       "<Figure size 640x480 with 2 Axes>"
      ]
     },
     "metadata": {},
     "output_type": "display_data"
    }
   ],
   "source": [
    "# Manipulating the data for creating the heatmap image\n",
    "data2 = cod_df.values.flatten().tolist()\n",
    "data2_array = np.array(data2).reshape(len(cod_df.columns),len(cod_df.columns))\n",
    "sns.heatmap(data2_array)"
   ]
  },
  {
   "cell_type": "markdown",
   "id": "5a66bb8c-3532-465a-8651-e6f4e540f2d7",
   "metadata": {},
   "source": [
    "### Analysis of some proteins\n",
    "After the visualization we are checking from the filtered dataframe which sequences are most dissimilar."
   ]
  },
  {
   "cell_type": "code",
   "execution_count": 29,
   "id": "ca9e1c74-cbac-4168-a506-c92c31a81d9c",
   "metadata": {},
   "outputs": [],
   "source": [
    "# Minimum cosine similarity\n",
    "minimum_cs = filtered_df.select(F.min(filtered_df[\"cosine_similarity\"])).collect()"
   ]
  },
  {
   "cell_type": "code",
   "execution_count": 30,
   "id": "0e22c3ff-db44-4328-bbd2-4f1d8b776464",
   "metadata": {},
   "outputs": [],
   "source": [
    "# Collecting the sequence names with the minimum similarity\n",
    "proteins = filtered_df.filter(filtered_df[\"cosine_similarity\"] == minimum_cs[0][0]).collect()\n",
    "protein1, protein2 = proteins[0][0],proteins[0][1]"
   ]
  },
  {
   "cell_type": "code",
   "execution_count": 31,
   "id": "c92d296b-380a-4c3c-b5bd-e4fc65a29e60",
   "metadata": {},
   "outputs": [
    {
     "name": "stderr",
     "output_type": "stream",
     "text": [
      "                                                                                \r"
     ]
    }
   ],
   "source": [
    "seq_protein1 = tokens_df.select(\"tokens\").where(f\"id == '{protein1}'\").take(1)\n",
    "seq_protein2 = tokens_df.select(\"tokens\").where(f\"id == '{protein2}'\").take(1)"
   ]
  },
  {
   "cell_type": "markdown",
   "id": "a541fc6c-d1b5-45a2-bdd3-3ce98d80310d",
   "metadata": {},
   "source": [
    "### Observing the frequencies of the residues of the most \"different\" sequences"
   ]
  },
  {
   "cell_type": "code",
   "execution_count": 32,
   "id": "5bb4dbd9-09b9-4830-be2f-d41ed784ebf4",
   "metadata": {},
   "outputs": [
    {
     "data": {
      "text/plain": [
       "Counter({'X': 7})"
      ]
     },
     "execution_count": 32,
     "metadata": {},
     "output_type": "execute_result"
    }
   ],
   "source": [
    "Counter(seq_protein1[0][0])"
   ]
  },
  {
   "cell_type": "code",
   "execution_count": 33,
   "id": "a6eed638-e362-44dd-95f9-f182295221b6",
   "metadata": {},
   "outputs": [
    {
     "data": {
      "text/plain": [
       "Counter({'P': 6,\n",
       "         'T': 3,\n",
       "         'V': 3,\n",
       "         'D': 2,\n",
       "         'N': 2,\n",
       "         'E': 1,\n",
       "         'W': 1,\n",
       "         'S': 1,\n",
       "         'K': 1,\n",
       "         'I': 1,\n",
       "         'Q': 1})"
      ]
     },
     "execution_count": 33,
     "metadata": {},
     "output_type": "execute_result"
    }
   ],
   "source": [
    "Counter(seq_protein2[0][0])"
   ]
  },
  {
   "cell_type": "code",
   "execution_count": 34,
   "id": "7db9375e-dd17-4b4f-912a-84a614664f9f",
   "metadata": {},
   "outputs": [
    {
     "name": "stdout",
     "output_type": "stream",
     "text": [
      "[Row(min(cosine_similarity)=0.9463010209117358)]\n"
     ]
    }
   ],
   "source": [
    "print(minimum_cs)"
   ]
  },
  {
   "cell_type": "markdown",
   "id": "fac7fa10-745d-4066-9a13-1e3d87994b01",
   "metadata": {},
   "source": [
    "### Observing the frequencies of the residues of the most \"similar\" sequences"
   ]
  },
  {
   "cell_type": "code",
   "execution_count": 40,
   "id": "b8462fbd-22aa-4d2f-a740-50c0f596643d",
   "metadata": {},
   "outputs": [
    {
     "name": "stdout",
     "output_type": "stream",
     "text": [
      "root\n",
      " |-- id1: string (nullable = true)\n",
      " |-- id2: string (nullable = true)\n",
      " |-- cosine_similarity: double (nullable = true)\n",
      "\n"
     ]
    }
   ],
   "source": [
    "filtered_df.printSchema()"
   ]
  },
  {
   "cell_type": "code",
   "execution_count": 53,
   "id": "cbd3b55a-8167-4613-97c7-83b23a8a77ef",
   "metadata": {},
   "outputs": [],
   "source": [
    "similars = df_cos_sim.filter((F.col(\"cosine_similarity\") > 0.99 )& (F.col(\"id1\") != F.col(\"id2\"))) \\\n",
    "                      .limit(1).collect()"
   ]
  },
  {
   "cell_type": "code",
   "execution_count": 58,
   "id": "319f182a-45bf-4a6c-a478-9a256a8a8eb7",
   "metadata": {},
   "outputs": [],
   "source": [
    "protein3 = similars[0][\"id1\"]\n",
    "protein4 = similars[0][\"id2\"]"
   ]
  },
  {
   "cell_type": "code",
   "execution_count": 59,
   "id": "2b374ea8-32b0-4a63-a815-977dba5e8331",
   "metadata": {},
   "outputs": [
    {
     "name": "stderr",
     "output_type": "stream",
     "text": [
      "                                                                                \r"
     ]
    }
   ],
   "source": [
    "seq_protein3 = tokens_df.select(\"tokens\").where(f\"id == '{protein3}'\").take(1)\n",
    "seq_protein4 = tokens_df.select(\"tokens\").where(f\"id == '{protein4}'\").take(1)"
   ]
  },
  {
   "cell_type": "code",
   "execution_count": 60,
   "id": "ad80abcf-10ac-496c-8564-64f3adf33498",
   "metadata": {},
   "outputs": [
    {
     "data": {
      "text/plain": [
       "Counter({'A': 11,\n",
       "         'K': 9,\n",
       "         'D': 9,\n",
       "         'L': 9,\n",
       "         'G': 9,\n",
       "         'I': 8,\n",
       "         'E': 7,\n",
       "         'S': 6,\n",
       "         'H': 6,\n",
       "         'T': 5,\n",
       "         'Q': 5,\n",
       "         'R': 4,\n",
       "         'V': 4,\n",
       "         'N': 3,\n",
       "         'P': 2,\n",
       "         'F': 2,\n",
       "         'Y': 1,\n",
       "         'M': 1,\n",
       "         'W': 1})"
      ]
     },
     "execution_count": 60,
     "metadata": {},
     "output_type": "execute_result"
    }
   ],
   "source": [
    "Counter(seq_protein3[0][0])"
   ]
  },
  {
   "cell_type": "code",
   "execution_count": 61,
   "id": "45e000dc-f722-4826-bb6c-619c246f78ac",
   "metadata": {},
   "outputs": [
    {
     "data": {
      "text/plain": [
       "Counter({'L': 20,\n",
       "         'R': 13,\n",
       "         'A': 11,\n",
       "         'Q': 10,\n",
       "         'E': 10,\n",
       "         'G': 9,\n",
       "         'V': 6,\n",
       "         'T': 5,\n",
       "         'F': 5,\n",
       "         'S': 5,\n",
       "         'D': 5,\n",
       "         'P': 4,\n",
       "         'N': 3,\n",
       "         'K': 3,\n",
       "         'Y': 3,\n",
       "         'W': 1,\n",
       "         'C': 1})"
      ]
     },
     "execution_count": 61,
     "metadata": {},
     "output_type": "execute_result"
    }
   ],
   "source": [
    "Counter(seq_protein4[0][0])"
   ]
  },
  {
   "cell_type": "code",
   "execution_count": 62,
   "id": "3ece3e65-abd8-4c41-95cc-d233bb4a928f",
   "metadata": {},
   "outputs": [
    {
     "data": {
      "text/plain": [
       "DataFrame[id1: string, id2: string, cosine_similarity: double]"
      ]
     },
     "execution_count": 62,
     "metadata": {},
     "output_type": "execute_result"
    }
   ],
   "source": [
    "# Removing the df from the cache\n",
    "df_cos_sim.unpersist()"
   ]
  },
  {
   "cell_type": "markdown",
   "id": "913c3767-daa0-4581-9e6b-c5805cc7fdfa",
   "metadata": {},
   "source": [
    "### Stopping the context and the spark app"
   ]
  },
  {
   "cell_type": "code",
   "execution_count": 63,
   "id": "8396bcc2-5877-40c0-80ba-608205c04aac",
   "metadata": {},
   "outputs": [],
   "source": [
    "sc.stop()"
   ]
  },
  {
   "cell_type": "code",
   "execution_count": 64,
   "id": "4bd7678b-5720-4d3b-8e15-9e1385d7263f",
   "metadata": {},
   "outputs": [],
   "source": [
    "spark.stop()"
   ]
  },
  {
   "cell_type": "code",
   "execution_count": null,
   "id": "35601b9c-e6c6-402c-80b3-e43be9e9f008",
   "metadata": {},
   "outputs": [],
   "source": []
  }
 ],
 "metadata": {
  "kernelspec": {
   "display_name": "Python 3 (ipykernel)",
   "language": "python",
   "name": "python3"
  },
  "language_info": {
   "codemirror_mode": {
    "name": "ipython",
    "version": 3
   },
   "file_extension": ".py",
   "mimetype": "text/x-python",
   "name": "python",
   "nbconvert_exporter": "python",
   "pygments_lexer": "ipython3",
   "version": "3.10.12"
  }
 },
 "nbformat": 4,
 "nbformat_minor": 5
}
